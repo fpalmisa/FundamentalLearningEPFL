{
 "cells": [
  {
   "cell_type": "markdown",
   "metadata": {},
   "source": [
    "**EE-411 Homework 3 : Neural Networks**"
   ]
  },
  {
   "cell_type": "markdown",
   "metadata": {},
   "source": [
    "*Name : Palmisano*\n",
    "\n",
    "*First Name : Fabio Nicola Edouard*\n",
    "\n",
    "*Sciper = 296708*\n"
   ]
  },
  {
   "cell_type": "markdown",
   "metadata": {},
   "source": [
    "## **Part 1 : Backpropagation with logistic loss**"
   ]
  },
  {
   "cell_type": "code",
   "execution_count": 3,
   "metadata": {},
   "outputs": [],
   "source": [
    "%matplotlib inline\n",
    "import numpy as np\n",
    "import matplotlib.pyplot as plt\n",
    "import pandas as pd\n",
    "import warnings\n",
    "warnings.filterwarnings(\"ignore\",category=DeprecationWarning)\n",
    "warnings.filterwarnings(\"ignore\",category=FutureWarning)"
   ]
  },
  {
   "cell_type": "markdown",
   "metadata": {},
   "source": [
    "## 1) Function Predict:"
   ]
  },
  {
   "cell_type": "code",
   "execution_count": 28,
   "metadata": {},
   "outputs": [],
   "source": [
    "# X : Array of shape B X D, W = {w_1 : D x K, w_2 : K x 1}\n",
    "def np_sigmoid(t):\n",
    "    \"\"\"apply sigmoid function on t.\"\"\"\n",
    "    return 1.0 / (1 + np.exp(-t))\n",
    "\n",
    "def predict(X,W) :\n",
    "    x_0 = X[0]\n",
    "    z_1 = W[\"w_1\"].T@x_0\n",
    "    X_1 = np_sigmoid(z_1)\n",
    "    z_2 = W[\"w_2\"].T@X_1\n",
    "    y_hat = np_sigmoid(z_2)\n",
    "    return z_1, z_2, y_hat\n",
    "\n"
   ]
  },
  {
   "cell_type": "code",
   "execution_count": 29,
   "metadata": {},
   "outputs": [
    {
     "name": "stdout",
     "output_type": "stream",
     "text": [
      "(5,)\n",
      "(1,)\n",
      "[0.8892134]\n",
      "(100, 7)\n"
     ]
    }
   ],
   "source": [
    "D = 7\n",
    "K = 5\n",
    "B = 100\n",
    "\n",
    "X = np.random.rand(B, D)\n",
    "W = {\"w_1\": np.random.rand(D, K), \"w_2\": np.random.rand(K, 1)}\n",
    "\n",
    "z_1, z_2, y_hat = predict(X, W)\n",
    "print(z_1.shape)\n",
    "print(z_2.shape)\n",
    "print(y_hat)\n",
    "print(X.shape)"
   ]
  },
  {
   "cell_type": "markdown",
   "metadata": {},
   "source": [
    "## 2) Function Logistic Loss:"
   ]
  },
  {
   "cell_type": "code",
   "execution_count": null,
   "metadata": {},
   "outputs": [],
   "source": []
  },
  {
   "cell_type": "code",
   "execution_count": null,
   "metadata": {},
   "outputs": [],
   "source": []
  }
 ],
 "metadata": {
  "kernelspec": {
   "display_name": "scientific",
   "language": "python",
   "name": "python3"
  },
  "language_info": {
   "codemirror_mode": {
    "name": "ipython",
    "version": 3
   },
   "file_extension": ".py",
   "mimetype": "text/x-python",
   "name": "python",
   "nbconvert_exporter": "python",
   "pygments_lexer": "ipython3",
   "version": "3.11.6"
  }
 },
 "nbformat": 4,
 "nbformat_minor": 2
}
