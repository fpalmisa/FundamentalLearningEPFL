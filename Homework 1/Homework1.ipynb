{
 "cells": [
  {
   "cell_type": "markdown",
   "metadata": {},
   "source": [
    "**EE-411 Homework 1 : Maximum Likelohood & Probability**"
   ]
  },
  {
   "cell_type": "markdown",
   "metadata": {},
   "source": [
    "*Name : Palmisano*\n",
    "\n",
    "*First Name : Fabio Nicola Edouard*\n",
    "\n",
    "*Sciper = 296708*\n",
    "\n"
   ]
  },
  {
   "cell_type": "markdown",
   "metadata": {},
   "source": [
    "**Part 1 : Statistical Inference and Maximum Likelihood**"
   ]
  },
  {
   "cell_type": "markdown",
   "metadata": {},
   "source": [
    "*<u>Question 1 : Compute $Z({\\lambda})$ </u>*\n",
    "\n",
    "If we want that $p_{\\lambda}(x_{i})$ is normalized we need to compute the integral : \n",
    "$\\begin{equation}\n",
    "\\int_{1}^{20} \\frac{1}{Z(\\lambda)} e^{\\frac{-x}{\\lambda}} \\,dx = 1\n",
    "\\end{equation}$\n",
    "So now we calculate the left part of equality: \n",
    "$\\begin{equation}\n",
    "\\frac{1}{Z(\\lambda)} \\int_{1}^{20}  e^{\\frac{-x}{\\lambda}} \\,dx = \\frac{1}{Z(\\lambda)} [-\\lambda \\cdot e^{\\frac{-x}{\\lambda}}]^{20}_{1} = \\frac{1}{Z(\\lambda)} [-\\lambda \\cdot e^{\\frac{-20}{\\lambda}} + \\lambda \\cdot e^{\\frac{-1}{\\lambda}}]\n",
    "\\end{equation}$\n",
    "And now taking equation number (1) we will calculate $Z(\\lambda)$ so : \n",
    "$\\begin{equation}\n",
    "{Z(\\lambda)} =\\lambda (e^{\\frac{-20}{\\lambda}} +e^{\\frac{-1}{\\lambda}})\n",
    "\\end{equation}$\n",
    "\n",
    "Now we want to show $\\mathbb{E}[X] = \\lambda^{2} {\\partial \\lambda} \\log{Z(\\lambda)}$\n",
    "\n",
    "\n",
    "And now we want to show $\\mathbb{var}[X] = \\lambda^{2} {\\partial \\lambda} \\mathbb{E}[X]$\n",
    "\n",
    "\n",
    "\n",
    "\n"
   ]
  },
  {
   "cell_type": "markdown",
   "metadata": {},
   "source": []
  }
 ],
 "metadata": {
  "kernelspec": {
   "display_name": "Python 3",
   "language": "python",
   "name": "python3"
  },
  "language_info": {
   "codemirror_mode": {
    "name": "ipython",
    "version": 3
   },
   "file_extension": ".py",
   "mimetype": "text/x-python",
   "name": "python",
   "nbconvert_exporter": "python",
   "pygments_lexer": "ipython3",
   "version": "3.11.6"
  }
 },
 "nbformat": 4,
 "nbformat_minor": 2
}
